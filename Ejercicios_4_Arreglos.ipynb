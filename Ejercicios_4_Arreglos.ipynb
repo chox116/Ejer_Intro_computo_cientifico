{
 "cells": [
  {
   "cell_type": "markdown",
   "metadata": {},
   "source": [
    "# Pérez Angeles Adrián"
   ]
  },
  {
   "cell_type": "markdown",
   "metadata": {},
   "source": [
    "1. Elabora una función que reciba una lista y regrese el promedio de los elementos."
   ]
  },
  {
   "cell_type": "code",
   "execution_count": 3,
   "metadata": {},
   "outputs": [
    {
     "name": "stdout",
     "output_type": "stream",
     "text": [
      "3.75\n"
     ]
    }
   ],
   "source": [
    "import numpy as np\n",
    "def l_prom(a):\n",
    "    sum=0\n",
    "    for i in range(len(a)):\n",
    "        sum+=a[i]\n",
    "    p=sum/ len(a)    \n",
    "    return p\n",
    "x=np.array([1,5,3,6])\n",
    "print(l_prom(x))"
   ]
  },
  {
   "cell_type": "markdown",
   "metadata": {},
   "source": [
    "2. Elabora un programa en el cual introduzcas los elementos de un vector por\n",
    "medio del teclado y te imprima en pantalla el elemento máximo."
   ]
  },
  {
   "cell_type": "code",
   "execution_count": 19,
   "metadata": {},
   "outputs": [
    {
     "name": "stdout",
     "output_type": "stream",
     "text": [
      "Introduce valores de un vector o presiona 0 para salir 1\n",
      "Introduce valores de un vector o presiona 0 para salir 234\n",
      "Introduce valores de un vector o presiona 0 para salir 12.654\n",
      "Introduce valores de un vector o presiona 0 para salir 67\n",
      "Introduce valores de un vector o presiona 0 para salir 3\n",
      "Introduce valores de un vector o presiona 0 para salir 2\n",
      "Introduce valores de un vector o presiona 0 para salir 0\n",
      "El elemento maximo es:  234.0\n"
     ]
    }
   ],
   "source": [
    "l=[]\n",
    "while True:\n",
    "    x=float(input(\"Introduce valores de un vector o presiona 0 para salir \"))\n",
    "    if(x == 0):\n",
    "        l.sort()\n",
    "        break\n",
    "    else:\n",
    "        l.append(x)\n",
    "print(\"El elemento maximo es: \", l[-1])"
   ]
  },
  {
   "cell_type": "markdown",
   "metadata": {},
   "source": [
    "3. Escribe una función que reciba tres vectores y regrese la combinación de producto\n",
    "punto y producto vectorial dada por la identidad vectorial:\n",
    "    $$\\vec{A}.\\vec{B} x \\vec{C}=\\vec{B}.\\vec{C}x\\vec{A}=\\vec{C}.\\vec{A}x \\vec{B}$$"
   ]
  },
  {
   "cell_type": "code",
   "execution_count": 11,
   "metadata": {},
   "outputs": [
    {
     "name": "stdout",
     "output_type": "stream",
     "text": [
      "El producto vectorial es:  [21, -8, -1]\n",
      "El triple producto escalar A.BxC es:  12\n",
      "El producto vectorial es:  [-10, 24, -2]\n",
      "El triple producto escalar B.CxA es:  12\n",
      "El producto vectorial es:  [1, -4, 15]\n",
      "El triple producto escalar C.AxB es:  12\n"
     ]
    }
   ],
   "source": [
    "import numpy as np\n",
    "def trip_prod(a,b,c):\n",
    "    sum=0\n",
    "    n,m, o=len(a), len(b), len(c)\n",
    "    if (n!=m!=o or n!=3):\n",
    "        return 'Vectores con dimensiones distintas '\n",
    "    else:\n",
    "        d0=a[0]*(b[1]*c[2]-b[2]*c[1])\n",
    "        d1=a[1]*(b[2]*c[0]-b[0]*c[2])\n",
    "        d2=a[2]*(b[0]*c[1]-b[1]*c[0])\n",
    "        d=[d0 ,d1 ,d2]\n",
    "        print(\"El producto vectorial es: \", d[::])\n",
    "        for i in range(n):\n",
    "            sum += d[i]\n",
    "        return sum\n",
    "A=np.array([3,2,1])\n",
    "B=np.array([2,3,2])\n",
    "C=np.array([1,1,3])\n",
    "A1=B\n",
    "B1=C\n",
    "C1=A\n",
    "A2=C\n",
    "B2=A\n",
    "C2=B\n",
    "print(\"El triple producto escalar A.BxC es: \", trip_prod(A,B,C))\n",
    "print(\"El triple producto escalar B.CxA es: \", trip_prod(A1,B1,C1))\n",
    "print(\"El triple producto escalar C.AxB es: \", trip_prod(A2,B2,C2))"
   ]
  },
  {
   "cell_type": "markdown",
   "metadata": {},
   "source": [
    "4. Escribe una función que reciba tres vectores y regrese el producto vectorial,\n",
    "usando la identidad vectorial:\n",
    "    $$\\vec{A}x(\\vec{B}x\\vec{C})=(\\vec{C}x\\vec{B})x\\vec{A}=\\vec{B}(\\vec{A}.\\vec{C})-\\vec{C}(\\vec{A}.\\vec{B})$$"
   ]
  },
  {
   "cell_type": "code",
   "execution_count": 16,
   "metadata": {},
   "outputs": [
    {
     "name": "stdout",
     "output_type": "stream",
     "text": [
      "El producto vectorial AxBxC es:  [-12, -3, 6]\n",
      "El producto vectorial AxBxC es:  [-12, -3, 6]\n",
      "El producto vectorial B(A.C)-C(A.B) es:  [-12  -3   6]\n"
     ]
    }
   ],
   "source": [
    "def cruz (a,b):\n",
    "    n,m= len(a),len(b)\n",
    "    if n!=m or n !=3:\n",
    "        return 'Con estos vectores no funciona '\n",
    "    else :\n",
    "        c0=a [1]* b[2] -a [2]* b [1]\n",
    "        c1=a [2]* b[0] -a [0]* b [2]\n",
    "        c2=a [0]* b[1] -a [1]* b [0]\n",
    "        c=[c0 ,c1 ,c2]\n",
    "        return c\n",
    "def prod_vec(a,b,c):\n",
    "    n, m, o=len(a), len(b), len(c)\n",
    "    if(n!= m!= o or n!= 3):\n",
    "        return 'Vectores con dimensiones distintas '\n",
    "    else:\n",
    "        suma1 =0\n",
    "        suma2 =0\n",
    "        suma3 =0\n",
    "        for i in range (n):\n",
    "            suma1+= a[i]*c[i]\n",
    "            suma2 +=a[i]*b[i]\n",
    "        return suma1*b - suma2*c\n",
    "A=np.array([2,2,5])\n",
    "B=np.array([1,2,3])\n",
    "C=np.array([1,1,1])\n",
    "BxC=cruz(B,C)\n",
    "CxB=cruz(C,B)\n",
    "print(\"El producto vectorial AxBxC es: \", cruz(A,BxC))\n",
    "print(\"El producto vectorial AxBxC es: \", cruz(CxB,A))\n",
    "print(\"El producto vectorial B(A.C)-C(A.B) es: \", prod_vec(A, B, C))"
   ]
  },
  {
   "cell_type": "markdown",
   "metadata": {},
   "source": [
    "5. Construya un cuadrado mágico con los nueve primeros números pares de modo\n",
    "que las filas, columnas y diagonales sumen 30."
   ]
  },
  {
   "cell_type": "code",
   "execution_count": 136,
   "metadata": {},
   "outputs": [
    {
     "name": "stdout",
     "output_type": "stream",
     "text": [
      "Da la propiedad \t30\n",
      "[[ 8.  6. 16.]\n",
      " [18. 10.  2.]\n",
      " [ 4. 14. 12.]]\n"
     ]
    }
   ],
   "source": [
    "from numpy import *\n",
    "N= float ( input ('Da la propiedad \\t'))\n",
    "A= zeros ([3 ,3])\n",
    "A[0 ,0]= 8\n",
    "A[2, 0]= 4\n",
    "a=N /3.0\n",
    "b=A[0 ,0] -a\n",
    "c=a-A[2 ,0]\n",
    "# Rellenando el cuadrado mágico\n",
    "A[0 ,1]=a -(b+c)\n",
    "A[0 ,2]=a+c\n",
    "A[1 ,0]=a -(b-c)\n",
    "A[1 ,1]=a\n",
    "A[1 ,2]=a+(b-c)\n",
    "A[2 ,1]=a+(b+c)\n",
    "A[2 ,2]=a-b\n",
    "print (A)"
   ]
  },
  {
   "cell_type": "markdown",
   "metadata": {},
   "source": [
    "6. Construye un cuadrado mágico de 4x4 (suma=34). Los elementos de cada una\n",
    "de las nueve matrices 2x2 que componen el cuadrado también deben sumar 34."
   ]
  },
  {
   "cell_type": "code",
   "execution_count": null,
   "metadata": {},
   "outputs": [],
   "source": []
  },
  {
   "cell_type": "markdown",
   "metadata": {},
   "source": [
    "7. Construye tu propio algoritmo de solución de cuadrados mágicos de 5x5."
   ]
  },
  {
   "cell_type": "code",
   "execution_count": null,
   "metadata": {},
   "outputs": [],
   "source": []
  },
  {
   "cell_type": "markdown",
   "metadata": {},
   "source": [
    "8. Haz una función que permita calcular la desviación estándar $\\sigma$ de una lista de\n",
    "números $(N \\leq 15)$. Sabiendo que:\n",
    "    $$\\sigma = \\sqrt{\\frac{\\sum_{i=1}^{n}(x_{i}-m)^{2}}{n-1}}$$"
   ]
  },
  {
   "cell_type": "code",
   "execution_count": 7,
   "metadata": {},
   "outputs": [
    {
     "name": "stdout",
     "output_type": "stream",
     "text": [
      "18.88562063228706 14.0\n"
     ]
    }
   ],
   "source": [
    "import numpy as np\n",
    "from math import *\n",
    "def l_prom(a):\n",
    "    sum=0\n",
    "    for i in range(len(a)):\n",
    "        sum+=a[i]\n",
    "    p=sum/ len(a)    \n",
    "    return p\n",
    "def desvi_estand(X):\n",
    "    N=len(X)\n",
    "    s=0\n",
    "    for i in range(N):\n",
    "        s+=(X[i]-l_prom(X))**2\n",
    "    sig=sqrt(s/(N-1))\n",
    "    return sig\n",
    "A=[1,2,3,4,53, 23,12]\n",
    "print(desvi_estand(A), l_prom(A))"
   ]
  },
  {
   "cell_type": "markdown",
   "metadata": {},
   "source": [
    "9. Escribe una función que reciba una matriz y regrese la matriz transpuesta"
   ]
  },
  {
   "cell_type": "code",
   "execution_count": 4,
   "metadata": {},
   "outputs": [
    {
     "name": "stdout",
     "output_type": "stream",
     "text": [
      "La matriz es: \n",
      " [[1 2 3]\n",
      " [4 5 6]]\n",
      "Y su matriz transpuesta es: \n",
      "  [[1. 4.]\n",
      " [2. 5.]\n",
      " [3. 6.]]\n"
     ]
    }
   ],
   "source": [
    "from numpy import * \n",
    "def transpuesta(M):\n",
    "    ren_M=len(M)\n",
    "    col_M=len(M[0, :])\n",
    "    M_t=zeros([ col_M , ren_M ], float )\n",
    "    for i in range(ren_M):\n",
    "        for j in range(col_M):\n",
    "            M_t[j, i]=M[i, j]\n",
    "    return M_t\n",
    "A= array([[1 ,2 ,3], [4 ,5 ,6]] , int)\n",
    "print(\"La matriz es: \\n\",A)\n",
    "print(\"Y su matriz transpuesta es: \\n \",transpuesta(A))"
   ]
  },
  {
   "cell_type": "markdown",
   "metadata": {},
   "source": [
    "10. Escribe una función que reciba una matriz compleja y regrese la matriz compleja\n",
    "conjugada."
   ]
  },
  {
   "cell_type": "code",
   "execution_count": 3,
   "metadata": {},
   "outputs": [
    {
     "name": "stdout",
     "output_type": "stream",
     "text": [
      "[[1.-3.j 2.+1.j 3.-2.j]\n",
      " [4.+5.j 5.-1.j 6.+7.j]\n",
      " [1.+1.j 2.+2.j 3.+3.j]]\n"
     ]
    }
   ],
   "source": [
    "from numpy import *\n",
    "def M_Compleja(M):\n",
    "    ren_MC=len(M)\n",
    "    col_MC=len(M[0, :])\n",
    "    MC=zeros([ren_MC, col_MC], complex)\n",
    "    for i in range(ren_MC):            \n",
    "        for k in range(col_MC):\n",
    "            MC[i,k]=M[i, k].conjugate()\n",
    "    return MC\n",
    "A= array([[1+3j ,2-1j ,3+2j], [4-5j ,5+1j ,6-7j], [1-1j, 2-2j, 3-3j]] , complex)\n",
    "print((M_Compleja(A)))\n"
   ]
  },
  {
   "cell_type": "markdown",
   "metadata": {},
   "source": [
    "11. Escribe una función que reciba dos matrices y regrese la suma matricial."
   ]
  },
  {
   "cell_type": "code",
   "execution_count": 4,
   "metadata": {},
   "outputs": [
    {
     "name": "stdout",
     "output_type": "stream",
     "text": [
      "[[ 2.  4.  6.]\n",
      " [ 8. 10. 12.]\n",
      " [ 2.  2.  2.]]\n"
     ]
    }
   ],
   "source": [
    "from numpy import *\n",
    "def sum_mat(A, B):\n",
    "    ren_A=len(A)\n",
    "    col_A=len(A[0, :])\n",
    "    ren_B=len(B)\n",
    "    col_B=len(B[0, :])\n",
    "    if(ren_A!=ren_B or col_A!=ren_B):\n",
    "        return 'Operación no valida'\n",
    "    else:\n",
    "        C=zeros([ren_A, col_A], float)\n",
    "        for i in range(ren_A):\n",
    "            for j in range(col_B):\n",
    "                C[i,j]=A[i,j]+B[i,j]\n",
    "        return C\n",
    "A= array([[1 ,2 ,3], [4 ,5 ,6],  [1, 1, 1]] , int)\n",
    "B= array([[1 ,2 ,3], [4 ,5 ,6],  [1, 1, 1]] , int)\n",
    "print(sum_mat(A,B))"
   ]
  },
  {
   "cell_type": "markdown",
   "metadata": {},
   "source": [
    "12. Escribe una función que reciba una matriz y un escalar y regrese la multiplicación del escalar por la matriz."
   ]
  },
  {
   "cell_type": "code",
   "execution_count": 5,
   "metadata": {},
   "outputs": [
    {
     "name": "stdout",
     "output_type": "stream",
     "text": [
      "dame un escalar 5\n",
      "[[ 5. 10. 15.]\n",
      " [20. 25. 30.]\n",
      " [ 5.  5.  5.]]\n"
     ]
    }
   ],
   "source": [
    "from numpy import *\n",
    "K=float(input(\"dame un escalar \"))\n",
    "def MultEsc(M):\n",
    "    ren_A=len(A)\n",
    "    col_A=len(A[0, :])\n",
    "    C= zeros([ren_A, col_A], float)\n",
    "    for i in range(ren_A):\n",
    "        for j in range(col_A):\n",
    "            C[i,j]=K*A[i,j]\n",
    "    return C\n",
    "A= array([[1 ,2 ,3], [4 ,5 ,6],  [1, 1, 1]] , int)\n",
    "print(MultEsc(A))"
   ]
  },
  {
   "cell_type": "markdown",
   "metadata": {},
   "source": [
    "13. Escribe una función que reciba una matriz y regrese la matriz inversa usando\n",
    "el algoritmo de Gauss-Jordan."
   ]
  },
  {
   "cell_type": "code",
   "execution_count": 9,
   "metadata": {},
   "outputs": [
    {
     "name": "stdout",
     "output_type": "stream",
     "text": [
      "La Matriz inversa es:\n",
      " [[ 0.13636364  0.04545455  0.13636364 -0.40909091]\n",
      " [-0.13636364 -0.04545455 -0.13636364 -0.59090909]\n",
      " [ 0.04545455  0.18181818  0.04545455 -0.13636364]\n",
      " [-1.09090909 -0.36363636 -2.09090909 -5.72727273]]\n",
      "Comprobación de que si es la inversa:\n",
      "[[1 0 0 0]\n",
      " [0 0 0 0]\n",
      " [0 0 1 0]\n",
      " [0 0 0 1]]\n"
     ]
    }
   ],
   "source": [
    "from numpy import *\n",
    "from numpy.linalg import *\n",
    "def gauss_jordan(X):\n",
    "    X1=X.copy()\n",
    "    n=len(X)\n",
    "    c=eye(n)\n",
    "    c1=c.copy()\n",
    "    for i in range(n-1):\n",
    "        if X1[i,i]==0:\n",
    "            X1[i]=X[i+1]\n",
    "            X1[i+1]=X[i]\n",
    "            c1[i]=c[i+1]\n",
    "            c1[i+1]=c[i]\n",
    "        if X1[-1,-1]==0:\n",
    "            X1[-1]=X[0]\n",
    "            X1[0]=X[-1]\n",
    "            c1[-1]=c[0]\n",
    "            c1[0]=c[-1]\n",
    "    for i in range(n):\n",
    "        for j in range(n):\n",
    "            if X1[i,i]!=0 and i!=j:\n",
    "                mult=(X1[j,i]/X1[i,i])\n",
    "                X1[j]=X1[j]-mult*X1[i]\n",
    "                c1[j]=c1[j]-mult*c1[i]\n",
    "    for i in range(n):\n",
    "        div=X1[i,i]\n",
    "        X1[i]=X1[i]/div\n",
    "        c1[i]=c1[i]/div\n",
    "    return c1\n",
    "A1 = array([[ 4,-12,-2,1 ],\n",
    "           [ -2,0,6,0 ],\n",
    "           [ 1,9,0,-1 ],\n",
    "           [ -1,-1,0,0]], float)\n",
    "M=gauss_jordan(A1)\n",
    "print('La Matriz inversa es:\\n',M)\n",
    "print('Comprobación de que si es la inversa:')\n",
    "print(array(dot(A1,M),int))"
   ]
  },
  {
   "cell_type": "code",
   "execution_count": null,
   "metadata": {},
   "outputs": [],
   "source": []
  }
 ],
 "metadata": {
  "kernelspec": {
   "display_name": "Python 3",
   "language": "python",
   "name": "python3"
  },
  "language_info": {
   "codemirror_mode": {
    "name": "ipython",
    "version": 3
   },
   "file_extension": ".py",
   "mimetype": "text/x-python",
   "name": "python",
   "nbconvert_exporter": "python",
   "pygments_lexer": "ipython3",
   "version": "3.8.5"
  }
 },
 "nbformat": 4,
 "nbformat_minor": 4
}
