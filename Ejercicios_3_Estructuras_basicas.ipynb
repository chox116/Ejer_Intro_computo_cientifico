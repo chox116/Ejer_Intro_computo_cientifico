{
 "cells": [
  {
   "cell_type": "markdown",
   "metadata": {},
   "source": [
    "## Pérez Angeles Adrián"
   ]
  },
  {
   "cell_type": "markdown",
   "metadata": {},
   "source": [
    "1. Construye un programa que diga si un número entero es o no primo. Hint:\n",
    "Determina si un número i divide a otro número z. Cambia el valor de\n",
    "una variable dentro de un ciclo cuando encuentres un divisor. De esta\n",
    "forma, al terminar el ciclo sabrás si el número z es primo o no."
   ]
  },
  {
   "cell_type": "code",
   "execution_count": 66,
   "metadata": {},
   "outputs": [
    {
     "name": "stdout",
     "output_type": "stream",
     "text": [
      "escribe un numero9\n",
      "El número no es primo\n"
     ]
    }
   ],
   "source": [
    "def primo(n): #no considero primo al 1\n",
    "    cont=0\n",
    "    for i in range(2,n):\n",
    "        if (n % i==0):\n",
    "            cont+=1\n",
    "    if (cont>0):\n",
    "        return 'El número no es primo'\n",
    "    else:\n",
    "        return 'El número es primo'\n",
    "x=int(input(\"escribe un numero\"))\n",
    "print(primo(x))"
   ]
  },
  {
   "cell_type": "markdown",
   "metadata": {},
   "source": [
    "2. Elabora un programa que muestre los primeros N números primos. N\n",
    "es solicitado al usuario.\n",
    "Hint: Usa el programa que elaboraste en el ejercicio anterior para analizar cada uno de los números naturales, cada vez que encuentres un\n",
    "número primo, muéstralo e incrementa un contador que te serviría como\n",
    "condición de paro para un ciclo while."
   ]
  },
  {
   "cell_type": "code",
   "execution_count": 67,
   "metadata": {},
   "outputs": [
    {
     "name": "stdout",
     "output_type": "stream",
     "text": [
      "Escribe cuantos numeros primos deseas2000\n",
      "[2, 3, 5, 7, 11, 13, 17, 19, 23, 29, 31, 37, 41, 43, 47, 53, 59, 61, 67, 71, 73, 79, 83, 89, 97, 101, 103, 107, 109, 113, 127, 131, 137, 139, 149, 151, 157, 163, 167, 173, 179, 181, 191, 193, 197, 199, 211, 223, 227, 229, 233, 239, 241, 251, 257, 263, 269, 271, 277, 281, 283, 293, 307, 311, 313, 317, 331, 337, 347, 349, 353, 359, 367, 373, 379, 383, 389, 397, 401, 409, 419, 421, 431, 433, 439, 443, 449, 457, 461, 463, 467, 479, 487, 491, 499, 503, 509, 521, 523, 541, 547, 557, 563, 569, 571, 577, 587, 593, 599, 601, 607, 613, 617, 619, 631, 641, 643, 647, 653, 659, 661, 673, 677, 683, 691, 701, 709, 719, 727, 733, 739, 743, 751, 757, 761, 769, 773, 787, 797, 809, 811, 821, 823, 827, 829, 839, 853, 857, 859, 863, 877, 881, 883, 887, 907, 911, 919, 929, 937, 941, 947, 953, 967, 971, 977, 983, 991, 997, 1009, 1013, 1019, 1021, 1031, 1033, 1039, 1049, 1051, 1061, 1063, 1069, 1087, 1091, 1093, 1097, 1103, 1109, 1117, 1123, 1129, 1151, 1153, 1163, 1171, 1181, 1187, 1193, 1201, 1213, 1217, 1223, 1229, 1231, 1237, 1249, 1259, 1277, 1279, 1283, 1289, 1291, 1297, 1301, 1303, 1307, 1319, 1321, 1327, 1361, 1367, 1373, 1381, 1399, 1409, 1423, 1427, 1429, 1433, 1439, 1447, 1451, 1453, 1459, 1471, 1481, 1483, 1487, 1489, 1493, 1499, 1511, 1523, 1531, 1543, 1549, 1553, 1559, 1567, 1571, 1579, 1583, 1597, 1601, 1607, 1609, 1613, 1619, 1621, 1627, 1637, 1657, 1663, 1667, 1669, 1693, 1697, 1699, 1709, 1721, 1723, 1733, 1741, 1747, 1753, 1759, 1777, 1783, 1787, 1789, 1801, 1811, 1823, 1831, 1847, 1861, 1867, 1871, 1873, 1877, 1879, 1889, 1901, 1907, 1913, 1931, 1933, 1949, 1951, 1973, 1979, 1987, 1993, 1997, 1999]\n"
     ]
    }
   ],
   "source": [
    "j=1\n",
    "N=int(input(\"Escribe cuantos numeros primos deseas\"))\n",
    "l=[]\n",
    "while j<= N-1:\n",
    "    j+=1\n",
    "    if (primo(j)=='El número es primo'):\n",
    "        l.append(j)\n",
    "\n",
    "print(l)\n",
    "    "
   ]
  },
  {
   "cell_type": "markdown",
   "metadata": {},
   "source": [
    "3. Haz un programa que pida el valor de dos enteros, n y m, y que muestre\n",
    "en pantalla el valor de:\n",
    "$$\\sum_{i=n}^{m}i^{2}$$\n",
    "Compara el resultado con el resultado analítico.\n",
    "Tenemos entonces \n",
    "$$\\sum_{i=n}^{m}i^{2}=\\sum_{i=0}^{m}i^{2}-\\sum_{i=0}^{n}i^{2}$$ y \n",
    "$$\\sum_{i=0}^{m}i^{2}= \\frac{n(n+1)(2n+1)}{6}$$ \n",
    "Por lo que si n=10 y m=1000\n",
    "$$\\sum_{i=0}^{1000}i^{2}= \\frac{1000(1000+1)(2(1000)+1)}{6}=333,833,500$$ y $$\\sum_{i=0}^{10}i^{2}= \\frac{10(10+1)(20+1)}{6}=385$$ \n",
    "Por lo que $$\\sum_{i=n}^{m}i^{2}=333, 833, 500- 385=333,833,115$$"
   ]
  },
  {
   "cell_type": "code",
   "execution_count": 100,
   "metadata": {},
   "outputs": [
    {
     "name": "stdout",
     "output_type": "stream",
     "text": [
      "Dame el valor entero de n= 10\n",
      "Dame el valor entero de m= 1000\n",
      "El valor de la suma es:  333833115\n",
      "La diferencia de el calculo analitico y el programa es de: 0\n"
     ]
    }
   ],
   "source": [
    "n=int(input(\"Dame el valor entero de n= \"))\n",
    "m=int(input(\"Dame el valor entero de m= \"))\n",
    "def sum_iterativa(x):\n",
    "    x=0\n",
    "    for i in range (n+1, m+1):\n",
    "        x+=i**2\n",
    "    return x\n",
    "print(\"El valor de la suma es: \",sum_iterativa(x))\n",
    "print(\"La diferencia de el calculo analitico y el programa es de:\", abs(333833115 -sum_iterativa(x)))"
   ]
  },
  {
   "cell_type": "markdown",
   "metadata": {},
   "source": [
    "4. Elabora un programa que pida el valor de dos enteros, n y m, y calcule\n",
    "la sumatoria de todos los números pares comprendidos entre n y m."
   ]
  },
  {
   "cell_type": "code",
   "execution_count": 101,
   "metadata": {},
   "outputs": [
    {
     "name": "stdout",
     "output_type": "stream",
     "text": [
      "Dame el valor entero de n= 0\n",
      "Dame el valor entero de m= 10\n",
      "El valor de la suma es:  110\n"
     ]
    }
   ],
   "source": [
    "n=int(input(\"Dame el valor entero de n= \"))\n",
    "m=int(input(\"Dame el valor entero de m= \"))\n",
    "def sum_par(x):\n",
    "    x=0\n",
    "    for i in range (n+1, m+1):\n",
    "        x+=2*i\n",
    "    return x\n",
    "\n",
    "print(\"El valor de la suma es: \",sum_par(x))"
   ]
  },
  {
   "cell_type": "markdown",
   "metadata": {},
   "source": [
    "5. Elabora un programa que te permita estimar el límite de la serie:\n",
    "    $$\\sum_{i=0}^{\\infty}\\frac{1}{2^{n}}$$"
   ]
  },
  {
   "cell_type": "code",
   "execution_count": 41,
   "metadata": {},
   "outputs": [
    {
     "name": "stdout",
     "output_type": "stream",
     "text": [
      "ingrese el valor del limite superior n=30\n",
      "0 1.0\n",
      "1 1.5\n",
      "2 1.75\n",
      "3 1.875\n",
      "4 1.9375\n",
      "5 1.96875\n",
      "6 1.984375\n",
      "7 1.9921875\n",
      "8 1.99609375\n",
      "9 1.998046875\n",
      "10 1.9990234375\n",
      "11 1.99951171875\n",
      "12 1.999755859375\n",
      "13 1.9998779296875\n",
      "14 1.99993896484375\n",
      "15 1.999969482421875\n",
      "16 1.9999847412109375\n",
      "17 1.9999923706054688\n",
      "18 1.9999961853027344\n",
      "19 1.9999980926513672\n",
      "20 1.9999990463256836\n",
      "21 1.9999995231628418\n",
      "22 1.999999761581421\n",
      "23 1.9999998807907104\n",
      "24 1.9999999403953552\n",
      "25 1.9999999701976776\n",
      "26 1.9999999850988388\n",
      "27 1.9999999925494194\n",
      "28 1.9999999962747097\n",
      "29 1.9999999981373549\n",
      "30 1.9999999990686774\n",
      "1.9999999990686774\n"
     ]
    }
   ],
   "source": [
    "n=int(input(\"ingrese el valor del limite superior n=\"))\n",
    "def sum_frac(x):\n",
    "    x=0\n",
    "    for i in range(n+1):\n",
    "        x=x+1/(2**i)\n",
    "        print(i, x)\n",
    "    return x\n",
    "print(sum_frac(x))"
   ]
  },
  {
   "cell_type": "markdown",
   "metadata": {},
   "source": [
    "6. Elabora un programa que genere una sucesión de números aleatorios en\n",
    "el intervalo [0.01,0.20], cuya suma sea menor que 1.50."
   ]
  },
  {
   "cell_type": "code",
   "execution_count": 3,
   "metadata": {},
   "outputs": [
    {
     "name": "stdout",
     "output_type": "stream",
     "text": [
      "El valor del elemento del intervalo i=  0.09492683481859389 y su suma es s= 0.09492683481859389\n",
      "El valor del elemento del intervalo i=  0.15834070502569292 y su suma es s= 0.2532675398442868\n",
      "El valor del elemento del intervalo i=  0.18136546398449166 y su suma es s= 0.43463300382877845\n",
      "El valor del elemento del intervalo i=  0.06580848840147994 y su suma es s= 0.5004414922302584\n",
      "El valor del elemento del intervalo i=  0.16950562746120207 y su suma es s= 0.6699471196914604\n",
      "El valor del elemento del intervalo i=  0.1940748291100561 y su suma es s= 0.8640219488015165\n",
      "El valor del elemento del intervalo i=  0.014611005537413013 y su suma es s= 0.8786329543389295\n",
      "El valor del elemento del intervalo i=  0.10899655917676505 y su suma es s= 0.9876295135156946\n",
      "El valor del elemento del intervalo i=  0.05707914055883071 y su suma es s= 1.0447086540745254\n",
      "El valor del elemento del intervalo i=  0.1714155687943126 y su suma es s= 1.216124222868838\n",
      "El valor del elemento del intervalo i=  0.028822458169987936 y su suma es s= 1.2449466810388259\n",
      "El valor del elemento del intervalo i=  0.1270291974321487 y su suma es s= 1.3719758784709746\n"
     ]
    }
   ],
   "source": [
    "from random import *\n",
    "s=0\n",
    "while True:\n",
    "    i=uniform(0.01,0.20)\n",
    "    s+=i\n",
    "    if (s>= 1.50):\n",
    "        break\n",
    "    else:\n",
    "        print(\"El valor del elemento del intervalo i= \",i, \"y su suma es s=\", s)"
   ]
  },
  {
   "cell_type": "markdown",
   "metadata": {},
   "source": [
    "7. (i) Diseña un programa en el que se le pida al usuario un ángulo en\n",
    "grados. Si el ángulo está fuera del rango [0; 360] reduzca el ángulo en\n",
    "este intervalo.\n",
    "Hint: Si el ángulo es negativo, considérese que los ángulos negativos giran\n",
    "en el sentido de las manecillas del reloj. A un ángulo negativo $\\theta'$, lo\n",
    "podemos transformar a un ángulo positivo $\\theta$ sumándole 360, tal que $\\theta' =\n",
    "360-\\theta$. También considera el caso en el que el ángulo sea mayor a 360).\n",
    "\n",
    "(ii) Haz la funcion angulo(x) que haga el inciso anterior."
   ]
  },
  {
   "cell_type": "code",
   "execution_count": 30,
   "metadata": {},
   "outputs": [
    {
     "name": "stdout",
     "output_type": "stream",
     "text": [
      "Dame un angulo en grados: -4400\n",
      "Se dio  12 vueltas\n",
      "280.0\n"
     ]
    }
   ],
   "source": [
    "def grad(n):\n",
    "    if(0<= n<= 360):\n",
    "        b=0\n",
    "        print(\"Se dio \", b, \"vueltas\")\n",
    "        return n\n",
    "    elif(n<= 0):\n",
    "        b=abs(int(n/360))\n",
    "        print(\"Se dio \", b, \"vueltas\")\n",
    "        return 360*(b+1)+n\n",
    "    else:\n",
    "        b=abs(int(n / 360))\n",
    "        print(\"Se dio \", b, \"vueltas\")\n",
    "        return n-360*(b)\n",
    "x=float(input(\"Dame un angulo en grados: \"))\n",
    "print(grad(x))"
   ]
  },
  {
   "cell_type": "markdown",
   "metadata": {},
   "source": [
    "8. Haz un programa que pida el valor de dos enteros n y m y que muestre\n",
    "en pantalla el valor de:\n",
    "    $$\\sum_{i=n}^{m}(i+1)^{2}$$"
   ]
  },
  {
   "cell_type": "code",
   "execution_count": 44,
   "metadata": {},
   "outputs": [
    {
     "name": "stdout",
     "output_type": "stream",
     "text": [
      "Ingrese el valor del limite superior de la suma m= 10\n",
      "Ingrese el valor del limite inferior de la suma n= 0\n",
      "0 1\n",
      "1 5\n",
      "2 14\n",
      "3 30\n",
      "4 55\n",
      "5 91\n",
      "6 140\n",
      "7 204\n",
      "8 285\n",
      "9 385\n",
      "10 506\n",
      "506\n"
     ]
    }
   ],
   "source": [
    "m=int(input(\"Ingrese el valor del limite superior de la suma m= \"))\n",
    "n=int(input(\"Ingrese el valor del limite inferior de la suma n= \"))\n",
    "def sum_c(x):\n",
    "    x=0\n",
    "    for i in range(n, m+1):\n",
    "        x=x+(i+1)**2\n",
    "        print(i, x)\n",
    "    return x\n",
    "print(sum_c(x))"
   ]
  },
  {
   "cell_type": "markdown",
   "metadata": {},
   "source": [
    "9. Algoritmo de fracciones continuas\n",
    "Para la solución de ecuaciones cuadráticas, en ocasiones se tienen fuertes singularidades\n",
    "y la fórmula ya no es funcional. Una manera de darle la vuelta a estas singularidades es\n",
    "reescribir la ecuación a evaluar en términos de una expansión Taylor. Otra posibilidad\n",
    "es utilizar las llamadas fracciones continuas, que pueden verse como generalizaciones de una expansión de Taylor. Un enfoque posible de las fracciones continuas es la sustitución sucesiva. Vamos a ilustrar esto con un ejemplo simple:\n",
    "\n",
    "$$x^{2} + 4x − 1 = 0$$,\n",
    "que puede reescribirse como:\n",
    "\n",
    "$$x = \\frac{1}{4 + x}$$\n",
    ",que, a su vez, podría representarse a través de un proceso iterativo de sustitución:\n",
    "\n",
    "$$x_{n+1} = \\frac{1}{4 + x_{n}}$$\n",
    "con x0 = 0. Esto significa que si tenemos,\n",
    "\n",
    "$$x_{1} =\\frac{1}{4}$$\n",
    "\n",
    "$$x_{2} =\\frac{1}{4+ \\frac{1}{4}}$$\n",
    "\n",
    "$$x_{3} =\\frac{1}{4+ \\frac{1}{\\frac{1}{4}}}$$\n",
    "\n",
    "Esto puede ser reescrito de forma compacta como:\n",
    "\n",
    "$$x_{n} = x_{0} +\\frac{a_{1}}{x1 +\\frac{a_{2}}{x_{2}+ \\frac{a_{3}}{x_{3}+ \\frac{a_{4}}{x_{4}+···}}}}$$\n",
    "\n",
    "(i) Escribe un programa que resuelva la ecuación (1) con la implementación del algoritmo de fracción continua y resuelva iterativamente. La solución exacta es x = 0.23607, ¿Cuántas iteraciones necesitamos para tener 3 cifras decimales correctas?\n",
    "\n",
    "Desde la tercer iteración se observa que la solución empieza a tener tres cifras decimales correctas\n",
    "\n",
    "(ii) Generaliza el código para que el usuario introduzca los coeficientes de la función y\n",
    "el número de precisión que desea obtener."
   ]
  },
  {
   "cell_type": "code",
   "execution_count": 43,
   "metadata": {},
   "outputs": [
    {
     "name": "stdout",
     "output_type": "stream",
     "text": [
      "3 0.2361111111111111\n",
      "4 0.23606557377049184\n",
      "5 0.23606811145510836\n",
      "6 0.23606797003471586\n",
      "7 0.236067977915804\n",
      "8 0.23606797747660604\n",
      "9 0.2360679775010817\n",
      "10 0.23606797749971767\n",
      "11 0.2360679774997937\n",
      "12 0.2360679774997895\n",
      "13 0.2360679774997897\n",
      "14 0.2360679774997897\n",
      "15 0.2360679774997897\n",
      "16 0.2360679774997897\n",
      "17 0.2360679774997897\n",
      "18 0.2360679774997897\n",
      "19 0.2360679774997897\n",
      "20 0.2360679774997897\n"
     ]
    }
   ],
   "source": [
    "#i)\n",
    "def frac_cont(n): \n",
    "    x=0\n",
    "    for i in range(n+1): #forma iterativa es mediante un for\n",
    "        x=1/(4+x)\n",
    "    return (x)\n",
    "for i in range(20):\n",
    "    if(abs(frac_cont(i)-frac_cont(i-1))<= 0.0009):\n",
    "        print(i+1, frac_cont(i))"
   ]
  },
  {
   "cell_type": "code",
   "execution_count": 44,
   "metadata": {},
   "outputs": [
    {
     "name": "stdout",
     "output_type": "stream",
     "text": [
      "sea la formula general x^{2}+bx+c=0\n",
      "ingrese el valor de b: 5\n",
      "ingrese el valor de c: -7\n",
      "ingresa el numero de presición que desea(0 a 1): 1e-7\n",
      "hasta que numero desea iterar? (preferible de 0 a 20) 17\n",
      "No se pudo complir el requisito de presición\n",
      "No se pudo complir el requisito de presición\n",
      "No se pudo complir el requisito de presición\n",
      "No se pudo complir el requisito de presición\n",
      "No se pudo complir el requisito de presición\n",
      "No se pudo complir el requisito de presición\n",
      "No se pudo complir el requisito de presición\n",
      "No se pudo complir el requisito de presición\n",
      "No se pudo complir el requisito de presición\n",
      "Desde esta iteración se cumple la presición:  10 el valor de esa iteración es:  1.1400548788098268\n",
      "Desde esta iteración se cumple la presición:  11 el valor de esa iteración es:  1.1400549568633274\n",
      "Desde esta iteración se cumple la presición:  12 el valor de esa iteración es:  1.1400549423707405\n",
      "Desde esta iteración se cumple la presición:  13 el valor de esa iteración es:  1.1400549450616522\n",
      "Desde esta iteración se cumple la presición:  14 el valor de esa iteración es:  1.140054944562017\n",
      "Desde esta iteración se cumple la presición:  15 el valor de esa iteración es:  1.1400549446547867\n",
      "Desde esta iteración se cumple la presición:  16 el valor de esa iteración es:  1.1400549446375619\n",
      "Desde esta iteración se cumple la presición:  17 el valor de esa iteración es:  1.14005494464076\n",
      "La solución de x hasta la iteración marcada es:  1.1400549446401662\n"
     ]
    }
   ],
   "source": [
    "#ii)\n",
    "print(\"sea la formula general x^{2}+bx+c=0\")\n",
    "b=float(input(\"ingrese el valor de b: \"))\n",
    "c=float(input(\"ingrese el valor de c: \"))\n",
    "p=float(input(\"ingresa el numero de presición que desea(0 a 1): \"))\n",
    "m=int(input(\"hasta que numero desea iterar? (preferible de 0 a 20) \"))\n",
    "def Gfrac_cont(n):\n",
    "    x=0\n",
    "    for i in range(n+1):\n",
    "        x=-c/(b+x)\n",
    "    return(x)\n",
    "for j in range(m):\n",
    "    if(abs(Gfrac_cont(m)-Gfrac_cont(j)) <= p):\n",
    "            print(\"Desde esta iteración se cumple la presición: \",j+1, \"el valor de esa iteración es: \", Gfrac_cont(j))\n",
    "    else:\n",
    "        print(\"No se pudo complir el requisito de presición\")\n",
    "print(\"La solución de x hasta la iteración marcada es: \", Gfrac_cont(m))"
   ]
  },
  {
   "cell_type": "markdown",
   "metadata": {},
   "source": [
    "10. Define una función que convierta grados Fahrenheit en centígrados y\n",
    "otra que convierta grados centígrados a Kelvin:"
   ]
  },
  {
   "cell_type": "code",
   "execution_count": 45,
   "metadata": {},
   "outputs": [
    {
     "name": "stdout",
     "output_type": "stream",
     "text": [
      "¿Cuantos grados Fahrenheit desea convertir a Celcius? 20\n",
      "¿Cuantos grados Celcius desea convertir a Kelvin? -70\n",
      "-6.666666666666666\n",
      "203.14999999999998\n"
     ]
    }
   ],
   "source": [
    "def FaC(n):\n",
    "    C=(n-32)/1.8000\n",
    "    return C\n",
    "def CaK(n):\n",
    "    K=n+273.15\n",
    "    return K\n",
    "x=float(input(\"¿Cuantos grados Fahrenheit desea convertir a Celcius? \"))\n",
    "y=float(input(\"¿Cuantos grados Celcius desea convertir a Kelvin? \"))\n",
    "print(FaC(x))\n",
    "print(CaK(y))"
   ]
  },
  {
   "cell_type": "markdown",
   "metadata": {},
   "source": [
    "11. Haz un algoritmo recursivo de la Torre de Hanói. El problema sigue así:\n",
    "Dadas 3 pilas, una con un conjunto de N discos de tama~no creciente,\n",
    "determina el mínimo número u óptimo de pasos que lleva mover todos\n",
    "los discos desde su posición inicial a otra pila sin colocar un disco de\n",
    "mayor tamaño sobre uno de menor tamaño. La definición de la función\n",
    "es:\n",
    "\n",
    "$hanoi(n)=$ si $n=1 \\rightarrow 1$\n",
    "\n",
    "$hanoi(n)=$ si $n>1 \\rightarrow 2*hanoi(n-1)+1$\n",
    "\n",
    "con la relación de recurrencia: \n",
    "$$h_{n}=2h_{n-1}+ 1h_{1}=1$$\n",
    "Compara recurcion y recursión + memoización"
   ]
  },
  {
   "cell_type": "code",
   "execution_count": 10,
   "metadata": {},
   "outputs": [
    {
     "name": "stdout",
     "output_type": "stream",
     "text": [
      "4475557660629846129928623898292253269176267697682610435608214280946626970452318160006543868216225599398711526206359139572715809411959478251756381658434650785184055531702488287603130884640852552993691381706437388553002086394166963194631865034202529847946777076906666268130697020575922598450098725171653306128514314599600472698282148869972371912273028199356633114379841937343041725338437986658138617649412152835735826570965323062890254400785978775352169004588281109861733742988584896236608739057364636478366477473830662722626081857686034947701919721281893079160042709234696492823095651168120054897902911765900154838966827860289100163000617844808708018177109752957203806254409430841876788987073709897261980394195569164768387346768548765475306313318004280567560941227094591192008569744361487890262659386283032295522294584829090408963750535816779631612917492645971560338075182849979318321392123903\n",
      "la diferencia es 0 segundos\n"
     ]
    }
   ],
   "source": [
    "import time \n",
    "start_time = time.time() #para medir el tiempo de mi pc \n",
    "def hanoi(n):\n",
    "    if (n==0):\n",
    "        return 0\n",
    "    elif (n==1):\n",
    "        return 1 \n",
    "    else:\n",
    "        return 2*hanoi(n-1)+1\n",
    "print(hanoi(2962)) #aca me falla \n",
    "print(\"la diferencia es %d segundos\" % ( time.time() - start_time))"
   ]
  },
  {
   "cell_type": "code",
   "execution_count": 1,
   "metadata": {},
   "outputs": [
    {
     "name": "stdout",
     "output_type": "stream",
     "text": [
      "6591020467154715500519448971182956815920095805466363845464017251208784640564172275539876061586061016570470378240358411519223408847120290640865531226256092019272337222193444478164485321385996965018293276462124757244416091694707916187810004642461304473055519289377038956632720459291562793025215823642301818245411925003913405836234450105344552244044742673596076354410059882503062972429198880937334650639372616752398293497257027217608526901866351620141700407963084674182399736358047288447003621584331284443301532916243415303062508821678234866203626437283608866847412118337661670877840919610977346910228036010126942185613413422429318097106437569783293722695034007373987906985874057385219624413344333564618977064277920937230332864815246329300089669136289555010440614383680600301739486560084446998787176863826999484611546399127850833033986349453118460814382386418957763043232194580785267308478351872420251487639547043793649484211758265813045449194675724510028425610539524483359439471654616035989287819938604310618520470063456383805329070539689379021701805712727372090288575427602468581730451256366275630269819610728502988623633338172009077823754757698355675743773031239722296389527777710681361252287853455474687\n",
      "El tiempo que le tomó calcular fue de: 0 segundos\n"
     ]
    }
   ],
   "source": [
    "import time\n",
    "star_time = time.time()\n",
    "def memoising(f):\n",
    "    memo={}\n",
    "    def auxiliar(x):\n",
    "        if x not in memo:\n",
    "            memo[x] = f(x)\n",
    "        return memo[x]\n",
    "    return auxiliar\n",
    "def hanoi(n):\n",
    "    if(n==0):\n",
    "        return 0\n",
    "    elif (n==1):\n",
    "        return 1 \n",
    "    else:\n",
    "        return 2*h(n-1)+1\n",
    "h = memoising(hanoi)\n",
    "\n",
    "for i in range(4000):\n",
    "    x=hanoi(i)\n",
    "print(x)\n",
    "print(\"El tiempo que le tomó calcular fue de: %d segundos\" % (time.time() - star_time))\n",
    "    "
   ]
  },
  {
   "cell_type": "code",
   "execution_count": null,
   "metadata": {},
   "outputs": [],
   "source": []
  }
 ],
 "metadata": {
  "kernelspec": {
   "display_name": "Python 3",
   "language": "python",
   "name": "python3"
  },
  "language_info": {
   "codemirror_mode": {
    "name": "ipython",
    "version": 3
   },
   "file_extension": ".py",
   "mimetype": "text/x-python",
   "name": "python",
   "nbconvert_exporter": "python",
   "pygments_lexer": "ipython3",
   "version": "3.8.5"
  }
 },
 "nbformat": 4,
 "nbformat_minor": 4
}
