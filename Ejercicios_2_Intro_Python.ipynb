{
 "cells": [
  {
   "cell_type": "markdown",
   "metadata": {},
   "source": [
    "# Pérez Angeles Adrián "
   ]
  },
  {
   "cell_type": "markdown",
   "metadata": {},
   "source": [
    "Evalúa el polinomio $$x^{4} +x^{3} +2x^{2} -x$$ en x = 1.1. Utiliza variables para\n",
    "evitar teclear varias veces el valor de x"
   ]
  },
  {
   "cell_type": "code",
   "execution_count": 27,
   "metadata": {},
   "outputs": [
    {
     "name": "stdout",
     "output_type": "stream",
     "text": [
      " Programa para evaluar el polinomio en x=1.1\n",
      "el valor del polinomio es:  4.115100000000002\n"
     ]
    }
   ],
   "source": [
    "print(\" Programa para evaluar el polinomio en x=1.1\")\n",
    "x=1.1\n",
    "i=x**4\n",
    "j=x**3\n",
    "k=2*x**2\n",
    "print(\"el valor del polinomio es: \", i+j+k-x)"
   ]
  },
  {
   "cell_type": "markdown",
   "metadata": {},
   "source": [
    "Da con el mayor detalle posible el resultado de evaluar las siguientes\n",
    "expresiones:\n",
    "(2+3)*1+2\n",
    "\n",
    "(2+3)*(1+2)\n",
    "\n",
    "1/2/4.0\n",
    "\n",
    "4**0.5\n",
    "\n",
    "4.0**(1.0/2)+1/2.0\n",
    "\n",
    "3e3/10\n",
    "\n",
    "10/5e-3 +1\n",
    "\n",
    "True ==True != False\n",
    "\n",
    "1<2<3<4<5\n",
    "\n",
    "palindromo =\"abcba\"\n",
    "\n",
    "(4*\"<\"+ palindromo +\">\"*4)*2\n",
    "\n",
    "\"abalorio\" <\"abecedario\"\n",
    "\n",
    "124 < 13\n",
    "\n",
    "\"124\"< \"13\"\n",
    "\n",
    "str(2.1)+ str(1.2)\n",
    "\n",
    "str(2+3)\n",
    "\n",
    "str(int (2.1)+float(3))"
   ]
  },
  {
   "cell_type": "code",
   "execution_count": 31,
   "metadata": {},
   "outputs": [
    {
     "data": {
      "text/plain": [
       "7"
      ]
     },
     "execution_count": 31,
     "metadata": {},
     "output_type": "execute_result"
    }
   ],
   "source": [
    "(2+3)*1+2 #se evalua como (2+3)*1+2=(5)+2=7"
   ]
  },
  {
   "cell_type": "code",
   "execution_count": 28,
   "metadata": {},
   "outputs": [
    {
     "data": {
      "text/plain": [
       "15.0"
      ]
     },
     "execution_count": 28,
     "metadata": {},
     "output_type": "execute_result"
    }
   ],
   "source": [
    "(2.0+3.0)*(1.0+2.0) #se evalua (2+3)*(1+2)=5*3=15 y son de tipo flotante"
   ]
  },
  {
   "cell_type": "code",
   "execution_count": 29,
   "metadata": {},
   "outputs": [
    {
     "data": {
      "text/plain": [
       "0.125"
      ]
     },
     "execution_count": 29,
     "metadata": {},
     "output_type": "execute_result"
    }
   ],
   "source": [
    "1/2/4.0 #se evalua 1/2/4=0.5/4=0.125 y es de tipo flotante debido al 4.0"
   ]
  },
  {
   "cell_type": "code",
   "execution_count": 30,
   "metadata": {},
   "outputs": [
    {
     "data": {
      "text/plain": [
       "2.0"
      ]
     },
     "execution_count": 30,
     "metadata": {},
     "output_type": "execute_result"
    }
   ],
   "source": [
    "4**0.5 #4^{1/2}=sqrt(4)=2"
   ]
  },
  {
   "cell_type": "code",
   "execution_count": 32,
   "metadata": {},
   "outputs": [
    {
     "data": {
      "text/plain": [
       "2.5"
      ]
     },
     "execution_count": 32,
     "metadata": {},
     "output_type": "execute_result"
    }
   ],
   "source": [
    "4.0**(1.0/2)+1/2.0"
   ]
  },
  {
   "cell_type": "code",
   "execution_count": 33,
   "metadata": {},
   "outputs": [
    {
     "data": {
      "text/plain": [
       "300.0"
      ]
     },
     "execution_count": 33,
     "metadata": {},
     "output_type": "execute_result"
    }
   ],
   "source": [
    "3e3/10"
   ]
  },
  {
   "cell_type": "code",
   "execution_count": 34,
   "metadata": {},
   "outputs": [
    {
     "data": {
      "text/plain": [
       "2001.0"
      ]
     },
     "execution_count": 34,
     "metadata": {},
     "output_type": "execute_result"
    }
   ],
   "source": [
    "10/5e-3+1"
   ]
  },
  {
   "cell_type": "code",
   "execution_count": 35,
   "metadata": {},
   "outputs": [
    {
     "data": {
      "text/plain": [
       "True"
      ]
     },
     "execution_count": 35,
     "metadata": {},
     "output_type": "execute_result"
    }
   ],
   "source": [
    "True ==True != False\n",
    "\n"
   ]
  },
  {
   "cell_type": "code",
   "execution_count": 36,
   "metadata": {},
   "outputs": [
    {
     "data": {
      "text/plain": [
       "True"
      ]
     },
     "execution_count": 36,
     "metadata": {},
     "output_type": "execute_result"
    }
   ],
   "source": [
    "1<2<3<4<5\n"
   ]
  },
  {
   "cell_type": "code",
   "execution_count": 44,
   "metadata": {},
   "outputs": [
    {
     "data": {
      "text/plain": [
       "'<<<<abcba>>>><<<<abcba>>>>'"
      ]
     },
     "execution_count": 44,
     "metadata": {},
     "output_type": "execute_result"
    }
   ],
   "source": [
    "palindromo =\"abcba\"\n",
    "(4*\"<\"+ palindromo +\">\"*4)*2\n"
   ]
  },
  {
   "cell_type": "code",
   "execution_count": 39,
   "metadata": {},
   "outputs": [
    {
     "data": {
      "text/plain": [
       "False"
      ]
     },
     "execution_count": 39,
     "metadata": {},
     "output_type": "execute_result"
    }
   ],
   "source": [
    "124 < 13\n"
   ]
  },
  {
   "cell_type": "code",
   "execution_count": 40,
   "metadata": {},
   "outputs": [
    {
     "data": {
      "text/plain": [
       "True"
      ]
     },
     "execution_count": 40,
     "metadata": {},
     "output_type": "execute_result"
    }
   ],
   "source": [
    "\"124\"< \"13\"\n"
   ]
  },
  {
   "cell_type": "code",
   "execution_count": 41,
   "metadata": {},
   "outputs": [
    {
     "data": {
      "text/plain": [
       "'2.11.2'"
      ]
     },
     "execution_count": 41,
     "metadata": {},
     "output_type": "execute_result"
    }
   ],
   "source": [
    "str(2.1)+ str(1.2)\n"
   ]
  },
  {
   "cell_type": "code",
   "execution_count": 42,
   "metadata": {},
   "outputs": [
    {
     "data": {
      "text/plain": [
       "'5'"
      ]
     },
     "execution_count": 42,
     "metadata": {},
     "output_type": "execute_result"
    }
   ],
   "source": [
    "str(2+3)\n"
   ]
  },
  {
   "cell_type": "code",
   "execution_count": 43,
   "metadata": {},
   "outputs": [
    {
     "data": {
      "text/plain": [
       "'5.0'"
      ]
     },
     "execution_count": 43,
     "metadata": {},
     "output_type": "execute_result"
    }
   ],
   "source": [
    "str(int (2.1)+float(3))"
   ]
  },
  {
   "cell_type": "markdown",
   "metadata": {},
   "source": [
    "3. Evalúa las siguientes expresiones, primero en papel y luego en el intérprete\n",
    "de Python.\n",
    "\n",
    "a) int(exp(2*log(3))) $$e^{2log(3)}=e^{log(3^{2})}=e^{log(9)}=2.596702959842573074$$\n",
    "como marcamos la expresion la parte entera, entonces $int(e^{log(9)})=2$\n",
    "\n",
    "b) round(4*sin(3*pi/2)) $$4sin(\\frac{3\\pi}{2})=4(-1)=-4$$\n",
    "y como roud redondea el valor a el mas cercano y lo regresa en flotante entonces $round(4sin(\\frac{3\\pi}{2}))=-4$\n",
    "\n",
    "c) abs(log10(0.01)*sqrt(25)) $$|log_{10}(0.01) \\sqrt(25)|=|log_{10}(0.01)\\pm 5|=|log_{10}(0.01)|5=|-2|5=10$$ ya que abs() es el valor absoluto "
   ]
  },
  {
   "cell_type": "code",
   "execution_count": 57,
   "metadata": {},
   "outputs": [
    {
     "data": {
      "text/plain": [
       "2"
      ]
     },
     "execution_count": 57,
     "metadata": {},
     "output_type": "execute_result"
    }
   ],
   "source": [
    "#a)\n",
    "from math import exp, log10 #esto es para diferenciar ya que python toma en automatico log como ln\n",
    "int(exp(2*log10(3)))"
   ]
  },
  {
   "cell_type": "code",
   "execution_count": 64,
   "metadata": {},
   "outputs": [
    {
     "data": {
      "text/plain": [
       "-4"
      ]
     },
     "execution_count": 64,
     "metadata": {},
     "output_type": "execute_result"
    }
   ],
   "source": [
    "#b)\n",
    "from math import *\n",
    "round(4*sin(3*pi/2))"
   ]
  },
  {
   "cell_type": "code",
   "execution_count": 66,
   "metadata": {},
   "outputs": [
    {
     "data": {
      "text/plain": [
       "10.0"
      ]
     },
     "execution_count": 66,
     "metadata": {},
     "output_type": "execute_result"
    }
   ],
   "source": [
    "#c)\n",
    "abs(log10(0.01)*sqrt(25))"
   ]
  },
  {
   "cell_type": "markdown",
   "metadata": {},
   "source": [
    "4. Escribe un programa que almacene en una lista los números del 1 al 10\n",
    "y los muestre, en orden inverso, separados por comas."
   ]
  },
  {
   "cell_type": "code",
   "execution_count": 85,
   "metadata": {},
   "outputs": [
    {
     "data": {
      "text/plain": [
       "[10, 9, 8, 7, 6, 5, 4, 3, 2, 1]"
      ]
     },
     "execution_count": 85,
     "metadata": {},
     "output_type": "execute_result"
    }
   ],
   "source": [
    "l=[1, 2, 3, 4, 5, 6, 7, 8, 9, 10]\n",
    "#l[-1], l[-2], l[-3], l[-4], l[-5], l[-6], l[-7], l[-8], l[-9], l[-10]\n",
    "l[::-1]"
   ]
  },
  {
   "cell_type": "markdown",
   "metadata": {},
   "source": [
    "5. Escribe un programa que almacene el abecedario en una lista, elimine de\n",
    "ésta las letras que ocupen posiciones que sean múltiplos de 3 y muestre\n",
    "la lista resultante"
   ]
  },
  {
   "cell_type": "code",
   "execution_count": 73,
   "metadata": {},
   "outputs": [
    {
     "name": "stdout",
     "output_type": "stream",
     "text": [
      "la lista es:  ['a', 'b', 'c', 'd', 'e', 'f', 'g', 'h', 'i', 'j', 'k', 'l', 'm', 'n', 'ñ', 'o', 'p', 'q', 'r', 's', 't', 'u', 'v', 'x', 'y', 'z']\n",
      "la lista borrando los multiplos de 3 es:  ['a', 'b', 'c', 'e', 'f', 'h', 'i', 'k', 'l', 'n', 'ñ', 'p', 'q', 's', 't', 'v', 'x', 'z']\n"
     ]
    }
   ],
   "source": [
    "l=[\"a\", \"b\", \"c\", \"d\", \"e\", \"f\", \"g\", \"h\", \"i\", \"j\", \"k\", \"l\" ,\"m\", \"n\", \"ñ\", \"o\", \"p\", \"q\", \"r\", \"s\", \"t\", \"u\", \"v\", \"x\", \"y\", \"z\"]\n",
    "print(\"la lista es: \", l[0:]) \n",
    "l.remove(\"d\")\n",
    "l.remove(\"g\")\n",
    "l.remove(\"j\")\n",
    "l.remove(\"m\")\n",
    "l.remove(\"o\")\n",
    "l.remove(\"r\")\n",
    "l.remove(\"u\")\n",
    "l.remove(\"y\")\n",
    "print(\"la lista borrando los multiplos de 3 es: \", l[0:]) "
   ]
  },
  {
   "cell_type": "markdown",
   "metadata": {},
   "source": [
    "6. Escribe un programa que pida al usuario una palabra y muestre si es un\n",
    "palíndromo."
   ]
  },
  {
   "cell_type": "code",
   "execution_count": 83,
   "metadata": {},
   "outputs": [
    {
     "name": "stdout",
     "output_type": "stream",
     "text": [
      "introduce una palabra:hola\n",
      "es palindorma si True, no es palindroma si False. False\n"
     ]
    }
   ],
   "source": [
    "x=str(input('introduce una palabra:'))\n",
    "print(\"es palindorma si True, no es palindroma si False.\", x==x[::-1])"
   ]
  },
  {
   "cell_type": "markdown",
   "metadata": {},
   "source": [
    "7. Pide números y mételos en una lista, cuando el usuario meta un 0 ya\n",
    "dejaremos de insertar. Por último, muestra los números ordenados de\n",
    "menor a mayor."
   ]
  },
  {
   "cell_type": "code",
   "execution_count": 13,
   "metadata": {},
   "outputs": [
    {
     "name": "stdout",
     "output_type": "stream",
     "text": [
      "Escribe un numero: 234235\n",
      "Escribe un numero: 23\n",
      "Escribe un numero: 534\n",
      "Escribe un numero: 2\n",
      "Escribe un numero: 4534\n",
      "Escribe un numero: 76\n",
      "Escribe un numero: 0\n",
      "adios\n"
     ]
    },
    {
     "data": {
      "text/plain": [
       "[2, 23, 76, 534, 4534, 234235]"
      ]
     },
     "execution_count": 13,
     "metadata": {},
     "output_type": "execute_result"
    }
   ],
   "source": [
    "l=[]\n",
    "while True:\n",
    "    x= int(input(\"Escribe un numero: \"))\n",
    "    if (x==0):\n",
    "        print(\"adios\")\n",
    "        break\n",
    "    else:    \n",
    "        l.append(x)\n",
    "l.sort()\n",
    "l[::]"
   ]
  },
  {
   "cell_type": "markdown",
   "metadata": {},
   "source": [
    "8. Escribe un programa que pida al usuario una palabra y muestre un\n",
    "conteo de cada vocal."
   ]
  },
  {
   "cell_type": "code",
   "execution_count": 1,
   "metadata": {},
   "outputs": [
    {
     "name": "stdout",
     "output_type": "stream",
     "text": [
      "escribe una oración o escriba 0 para salir: Hola mundo\n",
      "o\n",
      "a\n",
      "u\n",
      "o\n",
      "Hay:  4 vocales en:  Hola mundo\n",
      "escribe una oración o escriba 0 para salir: 0\n",
      "adios\n"
     ]
    }
   ],
   "source": [
    "while True:\n",
    "    cont=0\n",
    "    x=str(input(\"escribe una oración o escriba 0 para salir: \"))\n",
    "    if (x== '0'):\n",
    "        print(\"adios\")\n",
    "        break\n",
    "    else:\n",
    "      for caracter in x:\n",
    "          if caracter in 'aeiouAEIOUáéíóúÁÉíÓÚ':\n",
    "              cont+= 1\n",
    "              print(caracter)\n",
    "      print('Hay: ',cont,'vocales en: ',x)"
   ]
  },
  {
   "cell_type": "markdown",
   "metadata": {},
   "source": [
    "9. Pide una frase por teclado, mete las palabras en una lista sin espacios."
   ]
  },
  {
   "cell_type": "code",
   "execution_count": 41,
   "metadata": {},
   "outputs": [
    {
     "name": "stdout",
     "output_type": "stream",
     "text": [
      "escribe una frase: Hola mundo\n",
      "Hola mundo\n",
      "['Hola', 'mundo']\n"
     ]
    }
   ],
   "source": [
    "cadena = input(\"escribe una frase: \") #split\n",
    "print(cadena, sep='')\n",
    "lista = cadena.split()\n",
    "print(lista)"
   ]
  },
  {
   "cell_type": "markdown",
   "metadata": {},
   "source": [
    "10. Pide una cadena por teclado, mete los caracteres en una lista sin espacios."
   ]
  },
  {
   "cell_type": "code",
   "execution_count": 45,
   "metadata": {},
   "outputs": [
    {
     "name": "stdout",
     "output_type": "stream",
     "text": [
      "Dame una cadena: Hola mundo\n",
      "Hola mundo\n",
      "['H', 'o', 'l', 'a', 'm', 'u', 'n', 'd', 'o']"
     ]
    }
   ],
   "source": [
    "cadena = input(\"Dame una cadena: \")\n",
    " \n",
    "print(cadena)\n",
    " \n",
    "lista = []\n",
    " \n",
    "for c in cadena:\n",
    "    if(c != ' '):\n",
    "        lista.append(c)\n",
    " \n",
    "print(lista, sep='', end='')"
   ]
  },
  {
   "cell_type": "markdown",
   "metadata": {},
   "source": [
    "11. Haz un programa que pida el nombre de una persona y lo muestre 1000\n",
    "veces, pero dejando un espacio de separación entre cada copia del nombre."
   ]
  },
  {
   "cell_type": "code",
   "execution_count": 42,
   "metadata": {},
   "outputs": [
    {
     "name": "stdout",
     "output_type": "stream",
     "text": [
      "introduce un nombre: Adrián\n",
      "1 Adrián 2 Adrián 3 Adrián 4 Adrián 5 Adrián 6 Adrián 7 Adrián 8 Adrián 9 Adrián 10 Adrián 11 Adrián 12 Adrián 13 Adrián 14 Adrián 15 Adrián 16 Adrián 17 Adrián 18 Adrián 19 Adrián 20 Adrián 21 Adrián 22 Adrián 23 Adrián 24 Adrián 25 Adrián 26 Adrián 27 Adrián 28 Adrián 29 Adrián 30 Adrián 31 Adrián 32 Adrián 33 Adrián 34 Adrián 35 Adrián 36 Adrián 37 Adrián 38 Adrián 39 Adrián 40 Adrián 41 Adrián 42 Adrián 43 Adrián 44 Adrián 45 Adrián 46 Adrián 47 Adrián 48 Adrián 49 Adrián 50 Adrián 51 Adrián 52 Adrián 53 Adrián 54 Adrián 55 Adrián 56 Adrián 57 Adrián 58 Adrián 59 Adrián 60 Adrián 61 Adrián 62 Adrián 63 Adrián 64 Adrián 65 Adrián 66 Adrián 67 Adrián 68 Adrián 69 Adrián 70 Adrián 71 Adrián 72 Adrián 73 Adrián 74 Adrián 75 Adrián 76 Adrián 77 Adrián 78 Adrián 79 Adrián 80 Adrián 81 Adrián 82 Adrián 83 Adrián 84 Adrián 85 Adrián 86 Adrián 87 Adrián 88 Adrián 89 Adrián 90 Adrián 91 Adrián 92 Adrián 93 Adrián 94 Adrián 95 Adrián 96 Adrián 97 Adrián 98 Adrián 99 Adrián 100 Adrián 101 Adrián 102 Adrián 103 Adrián 104 Adrián 105 Adrián 106 Adrián 107 Adrián 108 Adrián 109 Adrián 110 Adrián 111 Adrián 112 Adrián 113 Adrián 114 Adrián 115 Adrián 116 Adrián 117 Adrián 118 Adrián 119 Adrián 120 Adrián 121 Adrián 122 Adrián 123 Adrián 124 Adrián 125 Adrián 126 Adrián 127 Adrián 128 Adrián 129 Adrián 130 Adrián 131 Adrián 132 Adrián 133 Adrián 134 Adrián 135 Adrián 136 Adrián 137 Adrián 138 Adrián 139 Adrián 140 Adrián 141 Adrián 142 Adrián 143 Adrián 144 Adrián 145 Adrián 146 Adrián 147 Adrián 148 Adrián 149 Adrián 150 Adrián 151 Adrián 152 Adrián 153 Adrián 154 Adrián 155 Adrián 156 Adrián 157 Adrián 158 Adrián 159 Adrián 160 Adrián 161 Adrián 162 Adrián 163 Adrián 164 Adrián 165 Adrián 166 Adrián 167 Adrián 168 Adrián 169 Adrián 170 Adrián 171 Adrián 172 Adrián 173 Adrián 174 Adrián 175 Adrián 176 Adrián 177 Adrián 178 Adrián 179 Adrián 180 Adrián 181 Adrián 182 Adrián 183 Adrián 184 Adrián 185 Adrián 186 Adrián 187 Adrián 188 Adrián 189 Adrián 190 Adrián 191 Adrián 192 Adrián 193 Adrián 194 Adrián 195 Adrián 196 Adrián 197 Adrián 198 Adrián 199 Adrián 200 Adrián 201 Adrián 202 Adrián 203 Adrián 204 Adrián 205 Adrián 206 Adrián 207 Adrián 208 Adrián 209 Adrián 210 Adrián 211 Adrián 212 Adrián 213 Adrián 214 Adrián 215 Adrián 216 Adrián 217 Adrián 218 Adrián 219 Adrián 220 Adrián 221 Adrián 222 Adrián 223 Adrián 224 Adrián 225 Adrián 226 Adrián 227 Adrián 228 Adrián 229 Adrián 230 Adrián 231 Adrián 232 Adrián 233 Adrián 234 Adrián 235 Adrián 236 Adrián 237 Adrián 238 Adrián 239 Adrián 240 Adrián 241 Adrián 242 Adrián 243 Adrián 244 Adrián 245 Adrián 246 Adrián 247 Adrián 248 Adrián 249 Adrián 250 Adrián 251 Adrián 252 Adrián 253 Adrián 254 Adrián 255 Adrián 256 Adrián 257 Adrián 258 Adrián 259 Adrián 260 Adrián 261 Adrián 262 Adrián 263 Adrián 264 Adrián 265 Adrián 266 Adrián 267 Adrián 268 Adrián 269 Adrián 270 Adrián 271 Adrián 272 Adrián 273 Adrián 274 Adrián 275 Adrián 276 Adrián 277 Adrián 278 Adrián 279 Adrián 280 Adrián 281 Adrián 282 Adrián 283 Adrián 284 Adrián 285 Adrián 286 Adrián 287 Adrián 288 Adrián 289 Adrián 290 Adrián 291 Adrián 292 Adrián 293 Adrián 294 Adrián 295 Adrián 296 Adrián 297 Adrián 298 Adrián 299 Adrián 300 Adrián 301 Adrián 302 Adrián 303 Adrián 304 Adrián 305 Adrián 306 Adrián 307 Adrián 308 Adrián 309 Adrián 310 Adrián 311 Adrián 312 Adrián 313 Adrián 314 Adrián 315 Adrián 316 Adrián 317 Adrián 318 Adrián 319 Adrián 320 Adrián 321 Adrián 322 Adrián 323 Adrián 324 Adrián 325 Adrián 326 Adrián 327 Adrián 328 Adrián 329 Adrián 330 Adrián 331 Adrián 332 Adrián 333 Adrián 334 Adrián 335 Adrián 336 Adrián 337 Adrián 338 Adrián 339 Adrián 340 Adrián 341 Adrián 342 Adrián 343 Adrián 344 Adrián 345 Adrián 346 Adrián 347 Adrián 348 Adrián 349 Adrián 350 Adrián 351 Adrián 352 Adrián 353 Adrián 354 Adrián 355 Adrián 356 Adrián 357 Adrián 358 Adrián 359 Adrián 360 Adrián 361 Adrián 362 Adrián 363 Adrián 364 Adrián 365 Adrián 366 Adrián 367 Adrián 368 Adrián 369 Adrián 370 Adrián 371 Adrián 372 Adrián 373 Adrián 374 Adrián 375 Adrián 376 Adrián 377 Adrián 378 Adrián 379 Adrián 380 Adrián 381 Adrián 382 Adrián 383 Adrián 384 Adrián 385 Adrián 386 Adrián 387 Adrián 388 Adrián 389 Adrián 390 Adrián 391 Adrián 392 Adrián 393 Adrián 394 Adrián 395 Adrián 396 Adrián 397 Adrián 398 Adrián 399 Adrián 400 Adrián 401 Adrián 402 Adrián 403 Adrián 404 Adrián 405 Adrián 406 Adrián 407 Adrián 408 Adrián 409 Adrián 410 Adrián 411 Adrián 412 Adrián 413 Adrián 414 Adrián 415 Adrián 416 Adrián 417 Adrián 418 Adrián 419 Adrián 420 Adrián 421 Adrián 422 Adrián 423 Adrián 424 Adrián 425 Adrián 426 Adrián 427 Adrián 428 Adrián 429 Adrián 430 Adrián 431 Adrián 432 Adrián 433 Adrián 434 Adrián 435 Adrián 436 Adrián 437 Adrián 438 Adrián 439 Adrián 440 Adrián 441 Adrián 442 Adrián 443 Adrián 444 Adrián 445 Adrián 446 Adrián 447 Adrián 448 Adrián 449 Adrián 450 Adrián 451 Adrián 452 Adrián 453 Adrián 454 Adrián 455 Adrián 456 Adrián 457 Adrián 458 Adrián 459 Adrián 460 Adrián 461 Adrián 462 Adrián 463 Adrián 464 Adrián 465 Adrián 466 Adrián 467 Adrián 468 Adrián 469 Adrián 470 Adrián 471 Adrián 472 Adrián 473 Adrián 474 Adrián 475 Adrián 476 Adrián 477 Adrián 478 Adrián 479 Adrián 480 Adrián 481 Adrián 482 Adrián 483 Adrián 484 Adrián 485 Adrián 486 Adrián 487 Adrián 488 Adrián 489 Adrián 490 Adrián 491 Adrián 492 Adrián 493 Adrián 494 Adrián 495 Adrián 496 Adrián 497 Adrián 498 Adrián 499 Adrián 500 Adrián 501 Adrián 502 Adrián 503 Adrián 504 Adrián 505 Adrián 506 Adrián 507 Adrián 508 Adrián 509 Adrián 510 Adrián 511 Adrián 512 Adrián 513 Adrián 514 Adrián 515 Adrián 516 Adrián 517 Adrián 518 Adrián 519 Adrián 520 Adrián 521 Adrián 522 Adrián 523 Adrián 524 Adrián 525 Adrián 526 Adrián 527 Adrián 528 Adrián 529 Adrián 530 Adrián 531 Adrián 532 Adrián 533 Adrián 534 Adrián 535 Adrián 536 Adrián 537 Adrián 538 Adrián 539 Adrián 540 Adrián 541 Adrián 542 Adrián 543 Adrián 544 Adrián 545 Adrián 546 Adrián 547 Adrián 548 Adrián 549 Adrián 550 Adrián 551 Adrián 552 Adrián 553 Adrián 554 Adrián 555 Adrián 556 Adrián 557 Adrián 558 Adrián 559 Adrián 560 Adrián 561 Adrián 562 Adrián 563 Adrián 564 Adrián 565 Adrián 566 Adrián 567 Adrián 568 Adrián 569 Adrián 570 Adrián 571 Adrián 572 Adrián 573 Adrián 574 Adrián 575 Adrián 576 Adrián 577 Adrián 578 Adrián 579 Adrián 580 Adrián 581 Adrián 582 Adrián 583 Adrián 584 Adrián 585 Adrián 586 Adrián 587 Adrián 588 Adrián 589 Adrián 590 Adrián 591 Adrián 592 Adrián 593 Adrián 594 Adrián 595 Adrián 596 Adrián 597 Adrián 598 Adrián 599 Adrián 600 Adrián 601 Adrián 602 Adrián 603 Adrián 604 Adrián 605 Adrián 606 Adrián 607 Adrián 608 Adrián 609 Adrián 610 Adrián 611 Adrián 612 Adrián 613 Adrián 614 Adrián 615 Adrián 616 Adrián 617 Adrián 618 Adrián 619 Adrián 620 Adrián 621 Adrián 622 Adrián 623 Adrián 624 Adrián 625 Adrián 626 Adrián 627 Adrián 628 Adrián 629 Adrián 630 Adrián 631 Adrián 632 Adrián 633 Adrián 634 Adrián 635 Adrián 636 Adrián 637 Adrián 638 Adrián 639 Adrián 640 Adrián 641 Adrián 642 Adrián 643 Adrián 644 Adrián 645 Adrián 646 Adrián 647 Adrián 648 Adrián 649 Adrián 650 Adrián 651 Adrián 652 Adrián 653 Adrián 654 Adrián 655 Adrián 656 Adrián 657 Adrián 658 Adrián 659 Adrián 660 Adrián 661 Adrián 662 Adrián 663 Adrián 664 Adrián 665 Adrián 666 Adrián 667 Adrián 668 Adrián 669 Adrián 670 Adrián 671 Adrián 672 Adrián 673 Adrián 674 Adrián 675 Adrián 676 Adrián 677 Adrián 678 Adrián 679 Adrián 680 Adrián 681 Adrián 682 Adrián 683 Adrián 684 Adrián 685 Adrián 686 Adrián 687 Adrián 688 Adrián 689 Adrián 690 Adrián 691 Adrián 692 Adrián 693 Adrián 694 Adrián 695 Adrián 696 Adrián 697 Adrián 698 Adrián 699 Adrián 700 Adrián 701 Adrián 702 Adrián 703 Adrián 704 Adrián 705 Adrián 706 Adrián 707 Adrián 708 Adrián 709 Adrián 710 Adrián 711 Adrián 712 Adrián 713 Adrián 714 Adrián 715 Adrián 716 Adrián 717 Adrián 718 Adrián 719 Adrián 720 Adrián 721 Adrián 722 Adrián 723 Adrián 724 Adrián 725 Adrián 726 Adrián 727 Adrián 728 Adrián 729 Adrián 730 Adrián 731 Adrián 732 Adrián 733 Adrián 734 Adrián 735 Adrián 736 Adrián 737 Adrián 738 Adrián 739 Adrián 740 Adrián 741 Adrián 742 Adrián 743 Adrián 744 Adrián 745 Adrián 746 Adrián 747 Adrián 748 Adrián 749 Adrián 750 Adrián 751 Adrián 752 Adrián 753 Adrián 754 Adrián 755 Adrián 756 Adrián 757 Adrián 758 Adrián 759 Adrián 760 Adrián 761 Adrián 762 Adrián 763 Adrián 764 Adrián 765 Adrián 766 Adrián 767 Adrián 768 Adrián 769 Adrián 770 Adrián 771 Adrián 772 Adrián 773 Adrián 774 Adrián 775 Adrián 776 Adrián 777 Adrián 778 Adrián 779 Adrián 780 Adrián 781 Adrián 782 Adrián 783 Adrián 784 Adrián 785 Adrián 786 Adrián 787 Adrián 788 Adrián 789 Adrián 790 Adrián 791 Adrián 792 Adrián 793 Adrián 794 Adrián 795 Adrián 796 Adrián 797 Adrián 798 Adrián 799 Adrián 800 Adrián 801 Adrián 802 Adrián 803 Adrián 804 Adrián 805 Adrián 806 Adrián 807 Adrián 808 Adrián 809 Adrián 810 Adrián 811 Adrián 812 Adrián 813 Adrián 814 Adrián 815 Adrián 816 Adrián 817 Adrián 818 Adrián 819 Adrián 820 Adrián 821 Adrián 822 Adrián 823 Adrián 824 Adrián 825 Adrián 826 Adrián 827 Adrián 828 Adrián 829 Adrián 830 Adrián 831 Adrián 832 Adrián 833 Adrián 834 Adrián 835 Adrián 836 Adrián 837 Adrián 838 Adrián 839 Adrián 840 Adrián 841 Adrián 842 Adrián 843 Adrián 844 Adrián 845 Adrián 846 Adrián 847 Adrián 848 Adrián 849 Adrián 850 Adrián 851 Adrián 852 Adrián 853 Adrián 854 Adrián 855 Adrián 856 Adrián 857 Adrián 858 Adrián 859 Adrián 860 Adrián 861 Adrián 862 Adrián 863 Adrián 864 Adrián 865 Adrián 866 Adrián 867 Adrián 868 Adrián 869 Adrián 870 Adrián 871 Adrián 872 Adrián 873 Adrián 874 Adrián 875 Adrián 876 Adrián 877 Adrián 878 Adrián 879 Adrián 880 Adrián 881 Adrián 882 Adrián 883 Adrián 884 Adrián 885 Adrián 886 Adrián 887 Adrián 888 Adrián 889 Adrián 890 Adrián 891 Adrián 892 Adrián 893 Adrián 894 Adrián 895 Adrián 896 Adrián 897 Adrián 898 Adrián 899 Adrián 900 Adrián 901 Adrián 902 Adrián 903 Adrián 904 Adrián 905 Adrián 906 Adrián 907 Adrián 908 Adrián 909 Adrián 910 Adrián 911 Adrián 912 Adrián 913 Adrián 914 Adrián 915 Adrián 916 Adrián 917 Adrián 918 Adrián 919 Adrián 920 Adrián 921 Adrián 922 Adrián 923 Adrián 924 Adrián 925 Adrián 926 Adrián 927 Adrián 928 Adrián 929 Adrián 930 Adrián 931 Adrián 932 Adrián 933 Adrián 934 Adrián 935 Adrián 936 Adrián 937 Adrián 938 Adrián 939 Adrián 940 Adrián 941 Adrián 942 Adrián 943 Adrián 944 Adrián 945 Adrián 946 Adrián 947 Adrián 948 Adrián 949 Adrián 950 Adrián 951 Adrián 952 Adrián 953 Adrián 954 Adrián 955 Adrián 956 Adrián 957 Adrián 958 Adrián 959 Adrián 960 Adrián 961 Adrián 962 Adrián 963 Adrián 964 Adrián 965 Adrián 966 Adrián 967 Adrián 968 Adrián 969 Adrián 970 Adrián 971 Adrián 972 Adrián 973 Adrián 974 Adrián 975 Adrián 976 Adrián 977 Adrián 978 Adrián 979 Adrián 980 Adrián 981 Adrián 982 Adrián 983 Adrián 984 Adrián 985 Adrián 986 Adrián 987 Adrián 988 Adrián 989 Adrián 990 Adrián 991 Adrián 992 Adrián 993 Adrián 994 Adrián 995 Adrián 996 Adrián 997 Adrián 998 Adrián 999 Adrián 1000 Adrián "
     ]
    }
   ],
   "source": [
    "nombre=input(\"introduce un nombre: \")\n",
    " \n",
    "for i in range(1000):\n",
    "    print(i+1, nombre, end=\" \")"
   ]
  },
  {
   "cell_type": "markdown",
   "metadata": {},
   "source": [
    "12. Escribe un programa que guarde en una variable el diccionario 'Euro':\n",
    "25.82, 'Dolar': 24.113, 'Yen': 0.2189,'Dolar Canadiense': 16.7842 y\n",
    "le pregunte al usuario por una divisa y muestre su valor de cambio o\n",
    "un mensaje de aviso si la divisa no está en el diccionario. Completa con\n",
    "todas las divisas que puedas."
   ]
  },
  {
   "cell_type": "code",
   "execution_count": 12,
   "metadata": {},
   "outputs": [
    {
     "name": "stdout",
     "output_type": "stream",
     "text": [
      "¿Que divisa deseas consultar? Dolar, Dolar Canadiense, Libra, Real, Dolar Australiano, Franco, Yen, Euro: Real\n",
      "3.92\n"
     ]
    }
   ],
   "source": [
    "moneda={}\n",
    "moneda=dict()\n",
    "moneda[\"Euro\"]=13.82\n",
    "moneda[\"Dolar\"]=24.113\n",
    "moneda[\"Yen\"]=0.2189\n",
    "moneda[\"Dolar Canadiense\"]=16.7842\n",
    "moneda[\"Libra\"]=27.55\n",
    "moneda[\"Real\"]=3.92\n",
    "moneda[\"Dolar Australiano\"]=14.86\n",
    "moneda[\"Franco\"]=21.73\n",
    "\n",
    "x=input(\"¿Que divisa deseas consultar? Dolar, Dolar Canadiense, Libra, Real, Dolar Australiano, Franco, Yen, Euro: \")\n",
    "\n",
    "\n",
    "if x=='Euro':\n",
    "    print(moneda.get('Euro'))\n",
    "elif x=='Dolar':\n",
    "    print(moneda.get('Dolar'))\n",
    "elif x=='Dolar Canadiense':  \n",
    "    print(moneda.get('Dolar Canadiense'))\n",
    "elif x=='Libra':\n",
    "    print(moneda.get('Libra'))\n",
    "elif x=='Real':\n",
    "    print(moneda.get('Real'))\n",
    "elif x=='Dolar Australiano':\n",
    "    print(moneda.get('Dolar Australiano'))\n",
    "elif x=='Franco':\n",
    "    print(moneda.get('Franco'))\n",
    "elif x=='Yen':\n",
    "    print(moneda.get('Yen'))\n",
    "else: \n",
    "    print(\"opcion no registrada en el menú, da una opción valida. \")\n"
   ]
  },
  {
   "cell_type": "markdown",
   "metadata": {},
   "source": [
    "13. Escribe un programa que pregunte al usuario su nombre, edad, dirección\n",
    "y teléfono y lo guarde en un diccionario."
   ]
  },
  {
   "cell_type": "code",
   "execution_count": 20,
   "metadata": {},
   "outputs": [
    {
     "name": "stdout",
     "output_type": "stream",
     "text": [
      "¿Cuál es tu nombre?Adrián Pérez\n",
      "¿Cuál es tu edad? 25\n",
      "Cuál es tu dirección? Higuera 28\n",
      "{'Nombre': 'Adrián Pérez', 'Edad': '25', 'Dirección': 'Higuera 28'}\n"
     ]
    }
   ],
   "source": [
    "datos={}\n",
    "datos=dict()\n",
    "nom=input(\"¿Cuál es tu nombre?\")\n",
    "datos={'Nombre':nom}\n",
    "edad=input(\"¿Cuál es tu edad? en años \")\n",
    "datos['Edad']=edad\n",
    "direccion=input(\"¿Cuál es tu dirección? \")\n",
    "datos['Dirección']=direccion\n",
    "print(datos)"
   ]
  },
  {
   "cell_type": "markdown",
   "metadata": {},
   "source": [
    "14. Escribe un programa que almacene el diccionario con las califícaciones\n",
    "de las asignaturas de un semestre 'Algebra': 10, 'Física': 9, 'Calculo':\n",
    "8,'Computacion': 10, 'Geometria': 9, y, después, muestre por pantalla\n",
    "las califícaciones de cada asignatura en el formato asignatura tiene\n",
    "calificacion , donde asignatura es cada una de las asignaturas del\n",
    "curso, y calificacion son sus califícaciones. Al fínal, debe mostrar también el número promedio del curso."
   ]
  },
  {
   "cell_type": "code",
   "execution_count": 30,
   "metadata": {},
   "outputs": [
    {
     "name": "stdout",
     "output_type": "stream",
     "text": [
      "Algebra tiene calificaión:  10\n",
      "Física tiene calificaión:  9\n",
      "Calculo tiene calificaión:  8\n",
      "Computacion tiene calificaión:  10\n",
      "Geometria tiene calificaión:  9\n",
      "El promedio de las calificaciones es:  9.2\n"
     ]
    }
   ],
   "source": [
    "asignatura={'Algebra': 10, 'Física': 9, 'Calculo': 8,'Computacion': 10, 'Geometria': 9}\n",
    "calificacion=0\n",
    "materias=0\n",
    "for x, y in asignatura.items():\n",
    "    print(x, \"tiene calificaión: \",y)\n",
    "    calificacion+= y\n",
    "    l=[x]\n",
    "    len(l)\n",
    "    materias+= len(l)\n",
    "prom=calificacion / materias\n",
    "print(\"El promedio de las calificaciones es: \", prom)"
   ]
  },
  {
   "cell_type": "markdown",
   "metadata": {},
   "source": [
    "15. Diseña un programa que pida el valor de los tres lados de un triángulo\n",
    "y calcule el valor de su área y perímetro. Recuerda que el área A de un\n",
    "triangulo puede calcularse a partir de sus tres lados a,b y c: así $A =\\sqrt{s(s- a)(s - b)(s - c)}$ donde $s = \\frac{(a + b + c)}{2}$. Esta expresión es la\n",
    "fórmula de Herón de Alejandría."
   ]
  },
  {
   "cell_type": "code",
   "execution_count": 38,
   "metadata": {},
   "outputs": [
    {
     "name": "stdout",
     "output_type": "stream",
     "text": [
      "ingrese el valor de el lado a: 3\n",
      "ingrese el valor de el lado b: 2\n",
      "ingrese el valor de el lado c: 3\n",
      "su área es:  2.8284271247461903 y su perimetro es:  8.0\n"
     ]
    }
   ],
   "source": [
    "from math import sqrt\n",
    "a=float(input(\"ingrese el valor de el lado a: \"))\n",
    "b=float(input(\"ingrese el valor de el lado b: \"))\n",
    "c=float(input(\"ingrese el valor de el lado c: \"))\n",
    "\n",
    "perimetro= a+b+c\n",
    "s= perimetro / 2\n",
    "area= sqrt(s *(s-a) *(s-b) *(s-c))\n",
    "print(\"su área es: \", area, \"y su perimetro es: \", perimetro)"
   ]
  },
  {
   "cell_type": "markdown",
   "metadata": {},
   "source": [
    "16. Un satélite se encuentra en una órbita circular alrededor de la Tierra,\n",
    "tal que completa un círculo en T segundos; T es el periodo de la órbita:\n",
    "\n",
    "i) Muestra que la altitud h sobre la superfície de la Tierra será:\n",
    "$$h=(\\frac{GMT^{2}}{4 \\pi^{2}})^{\\frac{1}{3}}- R$$\n",
    "donde G es la constante de gravitación universal y tiene un valor\n",
    "$G = 6.67x10^{11} m^{3}kg^{-1}s^{-2}$, M es la masa de la Tierra con valor\n",
    "$M = 5.97x10^{24}kg$ y R es el radio de la Tierra con valor $R = 6371 km$.\n",
    "\n",
    "Recordando la tercera ley de kepler \n",
    "$$T^{2}=\\frac{4 \\pi^{2} }{G M}a^{3}$$ \n",
    "Donde a es el semi-eje mayor. Por lo que $a=R+h$ entonces \n",
    "$$T^{2}= \\frac{4 \\pi^{2}}{GM}(R+h)^{3}$$ \n",
    "por lo que despejando $R+h$ es:\n",
    "$$\\frac{T^{2}GM}{4 \\pi^{2}}^{\\frac{1}{3}}=R+h$$\n",
    "Por lo que \n",
    "$$h=(\\frac{GMT^{2}}{4 \\pi^{2}})^{\\frac{1}{3}}- R$$\n",
    "\n",
    "\n",
    "(ii) Escribe un programa que le pregunte al usuario el periodo que desea\n",
    "que tenga su satélite girando alrededor de la Tierra y que le regrese la\n",
    "altitud, en metros, que debería tener.\n",
    "\n",
    "\n",
    "(iii) ¿Qué altitud debería tener el satélite si queremos que orbite la Tierra\n",
    "con un periodo de un día (órbita geosíncrona), 90 minutos, 45 minutos?\n",
    "Qué observas?\n",
    "\n",
    "(iv) En práctica, una órbita geosíncrona es aquella cuya órbita tiene un\n",
    "periodo de un día sideral, que es de 23.93 horas, no de 24 horas. Por\n",
    "qué es esto? ¿Cuál sería la diferencia en altitud entre T= 23.93 horas y\n",
    "T= 24 horas?"
   ]
  },
  {
   "cell_type": "code",
   "execution_count": 21,
   "metadata": {},
   "outputs": [
    {
     "name": "stdout",
     "output_type": "stream",
     "text": [
      "Este programa calcula la altitud de un satelite a partir del periodo en segundos \n",
      " ¿Cual es el periodo?91800\n",
      "su altitud es h= 96618621768290.73 m\n"
     ]
    }
   ],
   "source": [
    "#ii)\n",
    "from math import *\n",
    "G=6.67e11\n",
    "M=5.97e24\n",
    "R=6371000\n",
    "\n",
    "T=float(input(\"Este programa calcula la altitud de un satelite a partir del periodo en segundos \\n ¿Cual es el periodo?\"))\n",
    "h=((G*M*T)/4*pi**2)**(1. /3. ) - R\n",
    "print(\"su altitud es h=\", h, \"m\")\n"
   ]
  },
  {
   "cell_type": "markdown",
   "metadata": {},
   "source": [
    "iii)\n",
    "para un dia y 90 min $h= 96618621768290.73 m$\n",
    "para un dia y 45 min $h= 95661938850853.2 m$"
   ]
  },
  {
   "cell_type": "markdown",
   "metadata": {},
   "source": [
    "iv) porque en dia sideral es lo que toma en dar una vuelta completa la tierra, mientras el dia solar se considera la rotacion completa de la tierra mas la diferencia de traslacion de la tierra para que quede en la misma poción del sol en la tierra pasado un día. El dia sideral tiene una altura de $h= 94 593 583 217 540.62 m$ mientras el dia solar tiene una altura de $h= 94685728436827.69 m$ y hay una diferencia de alturas de $\\triangle h=92,145,219,287.07m$"
   ]
  },
  {
   "cell_type": "code",
   "execution_count": null,
   "metadata": {},
   "outputs": [],
   "source": []
  }
 ],
 "metadata": {
  "kernelspec": {
   "display_name": "Python 3",
   "language": "python",
   "name": "python3"
  },
  "language_info": {
   "codemirror_mode": {
    "name": "ipython",
    "version": 3
   },
   "file_extension": ".py",
   "mimetype": "text/x-python",
   "name": "python",
   "nbconvert_exporter": "python",
   "pygments_lexer": "ipython3",
   "version": "3.8.5"
  }
 },
 "nbformat": 4,
 "nbformat_minor": 4
}
